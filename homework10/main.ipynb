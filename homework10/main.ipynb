{
 "cells": [
  {
   "cell_type": "code",
   "execution_count": 16,
   "metadata": {},
   "outputs": [
    {
     "name": "stdout",
     "output_type": "stream",
     "text": [
      "    human  robot\n",
      "0       0      1\n",
      "1       0      1\n",
      "2       1      0\n",
      "3       0      1\n",
      "4       1      0\n",
      "5       1      0\n",
      "6       0      1\n",
      "7       0      1\n",
      "8       0      1\n",
      "9       1      0\n",
      "10      0      1\n",
      "11      0      1\n",
      "12      1      0\n",
      "13      1      0\n",
      "14      1      0\n",
      "15      1      0\n",
      "16      1      0\n",
      "17      1      0\n",
      "18      0      1\n",
      "19      0      1\n"
     ]
    }
   ],
   "source": [
    "import pandas as pd \n",
    "import random\n",
    " \n",
    "lst = ['robot'] * 10\n",
    "lst += ['human'] * 10\n",
    "random.shuffle(lst)\n",
    "data = pd.DataFrame({'whoAmI': lst})\n",
    " \n",
    "data['type'] = 1\n",
    "data.set_index([data.index, 'whoAmI'], inplace=True)\n",
    "data = data.unstack(level=-1, fill_value = 0).astype(int)\n",
    "data.columns = data.columns.droplevel()\n",
    "data.columns.name = None\n",
    "print(data)"
   ]
  }
 ],
 "metadata": {
  "kernelspec": {
   "display_name": "Python 3",
   "language": "python",
   "name": "python3"
  },
  "language_info": {
   "codemirror_mode": {
    "name": "ipython",
    "version": 3
   },
   "file_extension": ".py",
   "mimetype": "text/x-python",
   "name": "python",
   "nbconvert_exporter": "python",
   "pygments_lexer": "ipython3",
   "version": "3.10.6"
  },
  "orig_nbformat": 4,
  "vscode": {
   "interpreter": {
    "hash": "b0455beeef1fe0b826ce2e94bcb4905077a10a6e8878aae2442bf62d9cfabc5b"
   }
  }
 },
 "nbformat": 4,
 "nbformat_minor": 2
}
